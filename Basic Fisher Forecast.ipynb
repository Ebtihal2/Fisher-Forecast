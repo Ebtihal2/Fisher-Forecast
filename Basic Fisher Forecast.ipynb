{
 "cells": [
  {
   "cell_type": "code",
   "execution_count": 35,
   "metadata": {},
   "outputs": [
    {
     "name": "stdout",
     "output_type": "stream",
     "text": [
      "[[ 1.07671265e+02 -1.26841464e+05  3.82808277e+04 -9.59764793e+11\n",
      "  -2.32869416e+03  3.73166965e+03]\n",
      " [-1.26841464e+05  2.56299651e+08 -4.25566928e+07  2.16768958e+15\n",
      "   5.91451720e+06 -8.44081272e+06]\n",
      " [ 3.82808277e+04 -4.25566928e+07  1.41106210e+07 -3.79170699e+14\n",
      "  -8.05675074e+05  1.50101221e+06]\n",
      " [-9.59764793e+11  2.16768958e+15 -3.79170699e+14  4.98381704e+22\n",
      "   9.82247953e+13 -1.95789588e+14]\n",
      " [-2.32869416e+03  5.91451720e+06 -8.05675074e+05  9.82247953e+13\n",
      "   2.34065237e+05 -3.85827989e+05]\n",
      " [ 3.73166965e+03 -8.44081272e+06  1.50101221e+06 -1.95789588e+14\n",
      "  -3.85827989e+05  7.72942932e+05]]\n"
     ]
    }
   ],
   "source": [
    "#The libraries needed to run the code and camb. \n",
    "import math\n",
    "import sys, platform, os\n",
    "import matplotlib\n",
    "from matplotlib import pyplot as plt\n",
    "import numpy as np\n",
    "import camb\n",
    "\n",
    "#Noise curves for 2019-2020 servay from Srini\n",
    "d = np.load('spt3g_winter_2020_ilc_cmb_90-150-220_TT-EE.npy', allow_pickle=True)\n",
    "dd = d.item()\n",
    "\n",
    "# Dictionaries for Cosmological Parameters. \n",
    "# Each Dictionary is named after the variable we are varrying by 1 percent. \n",
    "\n",
    "cos_dict = {'H0': 67.5, 'ombh2':0.022, 'omch2':0.122,'mnu': 0.06,'omk': 0 , 'tau': 0.06}\n",
    "H0_dict ={'H0': 67.5*1.01, 'ombh2':0.022, 'omch2':0.122, 'mnu': 0.06,'omk': 0, 'tau': 0.06}\n",
    "ombh2_dict = {'H0': 67.5, 'ombh2':0.022*1.01, 'omch2':0.122,'mnu': 0.06,'omk': 0, 'tau': 0.06}\n",
    "omch2_dict={'H0': 67.5, 'ombh2':0.022, 'omch2':0.122*1.01, 'mnu': 0.06,'omk': 0, 'tau': 0.06}\n",
    "tau_dict = {'H0': 67.5, 'ombh2':0.022, 'omch2':0.122, 'mnu': 0.06,'omk': 0, 'tau': 0.06*1.01}\n",
    "\n",
    "    \n",
    "def get_cl(dict, b, c):\n",
    "        \"\"\" The function get_cl finds the covariant matrix. \n",
    "    \n",
    "        Parameters: \n",
    "        dict(dictinary): is the dictionary of cosmological parameters. \n",
    "        b(int): is the factor As is varied by. \n",
    "        c(int): is the factor ns is varied by. \n",
    "        \n",
    "        Returns: \n",
    "        np.matrix: the matrix represents the covarient matrix. \n",
    "        \"\"\" \n",
    "        pars = camb.CAMBparams()\n",
    "        cl_matrix = []\n",
    "        pars.set_cosmology(**dict)\n",
    "        pars.InitPower.set_params(As=b*2.10058296e-9, ns=c*0.96605, r =0)\n",
    "        pars.set_for_lmax(10000, lens_potential_accuracy=0);\n",
    "        results = camb.get_results(pars)\n",
    "        powers =results.get_cmb_power_spectra(pars, CMB_unit='muK')\n",
    "        #totCL has lensed dls. \n",
    "        totCL=powers['total']\n",
    "        ls = np.arange(totCL.shape[0])\n",
    "        cl_t = totCL[:,0]\n",
    "        cl_e =totCL[:,1]\n",
    "        cl_te = totCL[:,3]\n",
    "        noiseTT = dd['cl_residual']['TT']\n",
    "        noiseEE = dd['cl_residual']['EE']\n",
    "        for i in ls[(ls < len(noiseTT)) & (ls < len(cl_t))& (ls > 100)]:\n",
    "            Cl_11 = noiseTT[i]+ (cl_t[i]*(((2*np.pi))/(i*(i+1))))\n",
    "            Cl_12 = (cl_te[i]*(2*np.pi))/(i*(i+1))\n",
    "            Cl_22 = noiseEE[i]+ (cl_e[i]*(((2*np.pi))/(i*(i+1))))\n",
    "            c_l   = np.matrix([[Cl_11,  Cl_12],[ Cl_12, Cl_22]])\n",
    "            cl_matrix.insert(len(cl_matrix)-1,c_l)\n",
    "        return cl_matrix\n",
    "    \n",
    "H0_cls = get_cl(H0_dict, 1, 1)\n",
    "cos_cls = get_cl(cos_dict, 1,1)\n",
    "ombh2_cls = get_cl(ombh2_dict, 1, 1)\n",
    "omch2_cls = get_cl(omch2_dict, 1,1)\n",
    "As_cls = get_cl(cos_dict,1.01,1)\n",
    "ns_cls = get_cl(cos_dict, 1,1.01)\n",
    "tau_cls = get_cl(tau_dict,1,1)\n",
    "cl_dict = {\"H0\": H0_cls, \"ombh2\": ombh2_cls ,\"omch2\": omch2_cls, \"As\":As_cls, \"ns\":ns_cls, \"tau\":tau_cls,  \"cos\": cos_cls}  \n",
    "cl_dict_values = {\"H0\": 67.5, \"ombh2\": 0.022  ,\"omch2\": 0.122, \"As\":2.10058296e-9, \"ns\":0.96605, \"tau\":0.06} \n",
    "var = list(cl_dict.keys())\n",
    "f_matrix1 = np.zeros((6,6))\n",
    "for row in range(6):\n",
    "    for column in range(6):\n",
    "        for i in range(1,2898):\n",
    "            Clinv = np.linalg.inv((cl_dict[var[6]])[i])\n",
    "            dCldtheta_row = ((((cl_dict[var[row]])[i]) - ((cl_dict[var[6]])[i])) / ((0.01)*cl_dict_values[var[row]]))\n",
    "            dCldtheta_column = ((((cl_dict[var[column]])[i]) - ((cl_dict[var[6]])[i])) / ((0.01)*cl_dict_values[var[column]]))\n",
    "            fsky = 1500 / 41253\n",
    "            f_matrix1[row,column] += ((2*i+1)/2) * fsky * np.trace(Clinv * dCldtheta_row * Clinv * dCldtheta_column)\n",
    "\n",
    "\n",
    "print(f_matrix1)\n"
   ]
  },
  {
   "cell_type": "code",
   "execution_count": 32,
   "metadata": {},
   "outputs": [],
   "source": [
    "def prior(row,column, value, matrix):\n",
    "    \"\"\"The function adds a value to the defined value of the matrix . \n",
    "    \n",
    "        Parameters: \n",
    "        row(int): specfies the row of the matrix.\n",
    "        column(int): specifies the column of the matrix.\n",
    "        value(int): the value added to the element specified by the row and column.\n",
    "        matrix(np matrix): is the cl_matrix from get_cls\n",
    "        \n",
    "        Returns: \n",
    "        np.matrix: returns the covarient matrix with the updated value of the specified row and column.\"\"\"\n",
    "    matrix[row,column] +=   (1/value**2)\n",
    "    return matrix\n",
    "        \n",
    "\n",
    "def error(matrix):    \n",
    "    \"\"\"The function adds a value to the defined value of the matrix . \n",
    "    \n",
    "        Parameters: \n",
    "        matrix(np matrix): is updated matrix after adding a prior.\n",
    "        \n",
    "        Returns: \n",
    "        np.matrix: the uncertainities constraints on all the cosmological parameters.\"\"\"\n",
    "\n",
    "    a = np.linalg.inv(matrix)\n",
    "    a.diagonal()\n",
    "    for i in range(0, len(a.diagonal())): \n",
    "        errors = {}\n",
    "        errors[i] = (a.diagonal()[i])**(1/2)\n",
    "        print(errors)"
   ]
  },
  {
   "cell_type": "code",
   "execution_count": 33,
   "metadata": {},
   "outputs": [
    {
     "data": {
      "text/plain": [
       "array([[ 1.07671265e+02, -1.26841464e+05,  3.82808277e+04,\n",
       "        -9.59764793e+11, -2.32869416e+03,  3.73166965e+03],\n",
       "       [-1.26841464e+05,  2.56299651e+08, -4.25566928e+07,\n",
       "         2.16768958e+15,  5.91451720e+06, -8.44081272e+06],\n",
       "       [ 3.82808277e+04, -4.25566928e+07,  1.41106210e+07,\n",
       "        -3.79170699e+14, -8.05675074e+05,  1.50101221e+06],\n",
       "       [-9.59764793e+11,  2.16768958e+15, -3.79170699e+14,\n",
       "         4.98381704e+22,  9.82247953e+13, -1.95789588e+14],\n",
       "       [-2.32869416e+03,  5.91451720e+06, -8.05675074e+05,\n",
       "         9.82247953e+13,  2.34065237e+05, -3.85827989e+05],\n",
       "       [ 3.73166965e+03, -8.44081272e+06,  1.50101221e+06,\n",
       "        -1.95789588e+14, -3.85827989e+05,  7.93351095e+05]])"
      ]
     },
     "execution_count": 33,
     "metadata": {},
     "output_type": "execute_result"
    }
   ],
   "source": [
    " prior(5,5,0.0070, f_matrix1)\n"
   ]
  },
  {
   "cell_type": "code",
   "execution_count": 34,
   "metadata": {},
   "outputs": [
    {
     "name": "stdout",
     "output_type": "stream",
     "text": [
      "{0: 0.8281103901092002}\n",
      "{1: 0.00015697631084303626}\n",
      "{2: 0.0022017465163054147}\n",
      "{3: 2.791803505645197e-11}\n",
      "{4: 0.008471701523237595}\n",
      "{5: 0.006821729687521311}\n"
     ]
    }
   ],
   "source": [
    "error(f_matrix1)"
   ]
  },
  {
   "cell_type": "code",
   "execution_count": null,
   "metadata": {},
   "outputs": [],
   "source": []
  }
 ],
 "metadata": {
  "kernelspec": {
   "display_name": "Python 3 (v3)",
   "language": "python",
   "name": "python3-v3"
  },
  "language_info": {
   "codemirror_mode": {
    "name": "ipython",
    "version": 3
   },
   "file_extension": ".py",
   "mimetype": "text/x-python",
   "name": "python",
   "nbconvert_exporter": "python",
   "pygments_lexer": "ipython3",
   "version": "3.7.0"
  }
 },
 "nbformat": 4,
 "nbformat_minor": 2
}
