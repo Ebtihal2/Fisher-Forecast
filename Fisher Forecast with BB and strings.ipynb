{
 "cells": [
  {
   "cell_type": "code",
   "execution_count": 23,
   "metadata": {},
   "outputs": [
    {
     "name": "stdout",
     "output_type": "stream",
     "text": [
      "[[ 1.05697565e+02 -1.23567115e+05  3.75616513e+04 -9.60718312e+11\n",
      "  -2.20759446e+03  3.70689786e+03 -7.49439083e+08]\n",
      " [-1.23567115e+05  2.50862225e+08 -4.22352349e+07  2.11273874e+15\n",
      "   5.59651641e+06 -8.28386714e+06  1.73605713e+12]\n",
      " [ 3.75616513e+04 -4.22352349e+07  1.40913088e+07 -3.63363552e+14\n",
      "  -7.70053103e+05  1.46756396e+06 -1.85296375e+11]\n",
      " [-9.60718312e+11  2.11273874e+15 -3.63363552e+14  5.19786044e+22\n",
      "   9.55112684e+13 -2.00602905e+14  3.49727971e+19]\n",
      " [-2.20759446e+03  5.59651641e+06 -7.70053103e+05  9.55112684e+13\n",
      "   2.18640581e+05 -3.73944689e+05  6.67438560e+10]\n",
      " [ 3.70689786e+03 -8.28386714e+06  1.46756396e+06 -2.00602905e+14\n",
      "  -3.73944689e+05  7.83922048e+05 -1.24321853e+11]\n",
      " [-7.49439083e+08  1.73605713e+12 -1.85296375e+11  3.49727971e+19\n",
      "   6.67438560e+10 -1.24321853e+11  4.87646604e+16]]\n"
     ]
    }
   ],
   "source": [
    "#The libraries needed to run the code and camb.\n",
    "import math\n",
    "import sys, platform, os\n",
    "import matplotlib\n",
    "from matplotlib import pyplot as plt\n",
    "import numpy as np\n",
    "import camb\n",
    "\n",
    "#String Data\n",
    "l, yt, zt, tt = np.loadtxt('cl_tt.d', unpack = True)\n",
    "l, yte, zte, tte = np.loadtxt('cl_te.d', unpack = True)\n",
    "l, yb, zb = np.loadtxt('cl_bb.d', unpack = True)\n",
    "l, ye, ze, te = np.loadtxt('cl_ee.d', unpack = True)\n",
    "\n",
    "#Noise curves for 2019-2020 servay from Srini\n",
    "d = np.load('spt3g_winter_2020_ilc_cmb_90-150-220_TT-EE.npy', allow_pickle=True)\n",
    "dd = d.item()\n",
    "\n",
    "\n",
    "# Dictionaries for Cosmological Parameters.\n",
    "# Each Dictionary is named after the variable we are varrying by 1 percent.\n",
    "cos_dict = {'H0': 67.5, 'ombh2':0.022, 'omch2':0.122,'mnu': 0.06,'omk': 0 , 'tau': 0.06}\n",
    "H0_dict ={'H0': 67.5*1.01, 'ombh2':0.022, 'omch2':0.122, 'mnu': 0.06,'omk': 0, 'tau': 0.06}\n",
    "ombh2_dict = {'H0': 67.5, 'ombh2':0.022*1.01, 'omch2':0.122,'mnu': 0.06,'omk': 0, 'tau': 0.06}\n",
    "omch2_dict={'H0': 67.5, 'ombh2':0.022, 'omch2':0.122*1.01, 'mnu': 0.06,'omk': 0, 'tau': 0.06}\n",
    "tau_dict = {'H0': 67.5, 'ombh2':0.022, 'omch2':0.122, 'mnu': 0.06,'omk': 0, 'tau': 0.06*1.01}\n",
    "\n",
    "    \n",
    "def get_cl(dict,Gmu, b, c):\n",
    "        \"\"\" The function get_cl finds the covariant matrix. \n",
    "    \n",
    "        Parameters: \n",
    "        dict(dictinary): is the dictionary of cosmological parameters. \n",
    "        b(int): is the factor As is varied by. \n",
    "        c(int): is the factor ns is varied by. \n",
    "        \n",
    "        Returns: \n",
    "        np.matrix: the matrix represents the covarient matrix. \n",
    "        \"\"\" \n",
    "        pars = camb.CAMBparams()\n",
    "        cl_matrix = []\n",
    "        pars.set_cosmology(**dict)\n",
    "        pars.InitPower.set_params(As=b*2.10058296e-9, ns=c*0.96605, r =0)\n",
    "        pars.set_for_lmax(10000, lens_potential_accuracy=0);\n",
    "        results = camb.get_results(pars)\n",
    "        powers =results.get_cmb_power_spectra(pars, CMB_unit='muK')\n",
    "        totCL=powers['total']\n",
    "        unlensedCL=powers['unlensed_scalar']\n",
    "        ls = np.arange(totCL.shape[0])\n",
    "        unlensedCL=powers['unlensed_scalar']\n",
    "        cl_t = totCL[:,0]\n",
    "        cl_e = totCL[:,1]\n",
    "        cl_b = totCL[:,2]\n",
    "        cl_te = totCL[:,3]\n",
    "        noiseTT = dd['cl_residual']['TT']\n",
    "        noiseEE = dd['cl_residual']['EE']\n",
    "        SigmaTot_tt2 = 0\n",
    "        SigmaStr_tt2 = 0\n",
    "        for i in range(2,len(yt)):\n",
    "            SigmaTot_tt2 += ((2*i+1)/(4*np.pi))* ((cl_t[i] *(2*np.pi))/(i*(i+1)))\n",
    "            SigmaStr_tt2 += ((2*i+1)/(4*np.pi))* ( (yt[i]+ zt[i]+tt[i])*((2*np.pi))/(i*(i+1)))\n",
    "        A = Gmu**2 * SigmaTot_tt2 *(1.27*10**(-6))**(-2) *(SigmaStr_tt2)**(-1)\n",
    "        for i in ls[(ls < len(noiseTT)) & (ls < len(cl_t)) & (ls < len(yt))& (ls > 100)]:\n",
    "            Cl_11 = A*(yt[i]+ zt[i]+tt[i])*(2*np.pi)/(i*(i+1))+noiseTT[i] + ((cl_t[i]*(2*np.pi))/(i*(i+1)))\n",
    "            Cl_12 = A*(yte[i]+ zte[i]+te[i])*(2*np.pi)/(i*(i+1))+((cl_te[i]*(2*np.pi))/(i*(i+1)))\n",
    "            Cl_22 = A*(ye[i]+ ze[i]+te[i])*(2*np.pi)/(i*(i+1))+noiseEE[i] + ((cl_e[i]*(2*np.pi))/(i*(i+1)))\n",
    "            Cl_33 = ((cl_b[i]*(2*np.pi))/(i*(i+1))) +noiseEE[i]+ A*(yb[i]+ zb[i])*(2*np.pi)/(i*(i+1))\n",
    "            c_l   = np.matrix([[Cl_11,  Cl_12, 0],[ Cl_12, Cl_22, 0], [0,0,Cl_33 ]])\n",
    "            cl_matrix.insert(len(cl_matrix)-1,c_l)\n",
    "        return cl_matrix\n",
    "\n",
    "      \n",
    "H0_cls = get_cl(H0_dict, 1*10**(-7),1, 1)\n",
    "cos_cls = get_cl(cos_dict, 1*10**(-7),1,1)\n",
    "Gmu_cls = get_cl(cos_dict, 1*10**(-7)*1.01,1,1)\n",
    "ombh2_cls = get_cl(ombh2_dict, 1*10**(-7),1, 1)\n",
    "omch2_cls = get_cl(omch2_dict,1*10**(-7), 1,1)\n",
    "As_cls = get_cl(cos_dict,1*10**(-7),1.01,1)\n",
    "ns_cls = get_cl(cos_dict, 1*10**(-7),1,1.01)\n",
    "tau_cls = get_cl(tau_dict,1*10**(-7),1,1)\n",
    "cl_dict = {\"H0\": H0_cls, \"ombh2\": ombh2_cls ,\"omch2\": omch2_cls, \"As\":As_cls, \"ns\":ns_cls, \"tau\":tau_cls, \"Gmu\":Gmu_cls, \"cos\": cos_cls}  \n",
    "cl_dict_values = {\"H0\": 67.5, \"ombh2\": 0.022  ,\"omch2\": 0.122, \"As\":2.10058296e-9, \"ns\":0.96605, \"tau\":0.06, \"Gmu\":1*10**(-7)} \n",
    "var = list(cl_dict.keys())\n",
    "f_matrix1 = np.zeros((7,7))\n",
    "for row in range(7):\n",
    "    for column in range(7):\n",
    "        for i in range(1,2898):\n",
    "                Clinv = np.linalg.inv((cl_dict[var[7]])[i])\n",
    "                dCldtheta_row = ((((cl_dict[var[row]])[i]) - ((cl_dict[var[7]])[i])) / ((0.01)*cl_dict_values[var[row]]))\n",
    "                dCldtheta_column = ((((cl_dict[var[column]])[i]) - ((cl_dict[var[7]])[i])) / ((0.01)*cl_dict_values[var[column]]))\n",
    "                fsky = 1500 / 41253\n",
    "                f_matrix1[row,column] += ((2*i+1)/2) * fsky * np.trace(Clinv * dCldtheta_row * Clinv * dCldtheta_column)\n",
    "    \n",
    "print(f_matrix1)"
   ]
  },
  {
   "cell_type": "code",
   "execution_count": 12,
   "metadata": {},
   "outputs": [],
   "source": [
    "def prior(row,column, value, matrix):\n",
    "    \"\"\"The function adds a value to the defined value of the matrix . \n",
    "    \n",
    "        Parameters: \n",
    "        row(int): specfies the row of the matrix.\n",
    "        column(int): specifies the column of the matrix.\n",
    "        value(int): the value added to the element specified by the row and column.\n",
    "        matrix(np matrix): is the cl_matrix from get_cls\n",
    "        \n",
    "        Returns: \n",
    "        np.matrix: returns the covarient matrix with the updated value of the specified row and column.\"\"\"\n",
    "    matrix[row,column] +=   (1/value**2)\n",
    "    return matrix\n",
    "        \n",
    "\n",
    "def error(matrix):    \n",
    "    \"\"\"The function adds a value to the defined value of the matrix . \n",
    "    \n",
    "        Parameters: \n",
    "        matrix(np matrix): is updated matrix after adding a prior.\n",
    "        \n",
    "        Returns: \n",
    "        np.matrix: the uncertainities constraints on all the cosmological parameters.\"\"\"\n",
    "\n",
    "    a = np.linalg.inv(matrix)\n",
    "    a.diagonal()\n",
    "    for i in range(0, len(a.diagonal())): \n",
    "        errors = {}\n",
    "        errors[i] = (a.diagonal()[i])**(1/2)\n",
    "        print(errors)"
   ]
  },
  {
   "cell_type": "code",
   "execution_count": 13,
   "metadata": {},
   "outputs": [
    {
     "data": {
      "text/plain": [
       "array([[ 1.06272714e+02, -1.24476039e+05,  3.77047527e+04,\n",
       "        -9.64891747e+11, -2.24947942e+03,  3.72303334e+03,\n",
       "        -5.19364586e+08],\n",
       "       [-1.24476039e+05,  2.52772173e+08, -4.24064349e+07,\n",
       "         2.11949783e+15,  5.69632826e+06, -8.31104692e+06,\n",
       "         1.14050673e+12],\n",
       "       [ 3.77047527e+04, -4.24064349e+07,  1.41304264e+07,\n",
       "        -3.63188203e+14, -7.78427418e+05,  1.46736526e+06,\n",
       "        -1.19734001e+11],\n",
       "       [-9.64891747e+11,  2.11949783e+15, -3.63188203e+14,\n",
       "         5.19025842e+22,  9.64515302e+13, -2.00353357e+14,\n",
       "         2.63791332e+19],\n",
       "       [-2.24947942e+03,  5.69632826e+06, -7.78427418e+05,\n",
       "         9.64515302e+13,  2.23685554e+05, -3.77502485e+05,\n",
       "         4.70483575e+10],\n",
       "       [ 3.72303334e+03, -8.31104692e+06,  1.46736526e+06,\n",
       "        -2.00353357e+14, -3.77502485e+05,  8.03557904e+05,\n",
       "        -9.25378270e+10],\n",
       "       [-5.19364586e+08,  1.14050673e+12, -1.19734001e+11,\n",
       "         2.63791332e+19,  4.70483575e+10, -9.25378270e+10,\n",
       "         3.38754794e+16]])"
      ]
     },
     "execution_count": 13,
     "metadata": {},
     "output_type": "execute_result"
    }
   ],
   "source": [
    "prior(5,5,0.0070, f_matrix1)\n"
   ]
  },
  {
   "cell_type": "code",
   "execution_count": 14,
   "metadata": {},
   "outputs": [
    {
     "name": "stdout",
     "output_type": "stream",
     "text": [
      "{0: 0.6690361912465989}\n",
      "{1: 0.0001534604993787167}\n",
      "{2: 0.0017914198280124213}\n",
      "{3: 2.7331805669016893e-11}\n",
      "{4: 0.007482704251216383}\n",
      "{5: 0.006817602684719896}\n",
      "{6: 9.446985390342443e-09}\n"
     ]
    }
   ],
   "source": [
    "#cl_dict_values = {\"H0\": 67.5, \"ombh2\": 0.022  ,\"omch2\": 0.122, \"As\":2.10058296e-9, \"ns\":0.96605, \"tau\":0.06, \"Gmu\":1*10**(-7)}\n",
    "error(f_matrix1)"
   ]
  },
  {
   "cell_type": "code",
   "execution_count": 17,
   "metadata": {},
   "outputs": [
    {
     "data": {
      "text/plain": [
       "0.005650837224018065"
      ]
     },
     "execution_count": 17,
     "metadata": {},
     "output_type": "execute_result"
    }
   ],
   "source": [
    "#finding the error in log(As).\n",
    "2.7331805669016893e-11/ (np.log(10) * 2.10058296e-9)"
   ]
  },
  {
   "cell_type": "code",
   "execution_count": null,
   "metadata": {},
   "outputs": [],
   "source": []
  }
 ],
 "metadata": {
  "kernelspec": {
   "display_name": "Python 3 (v3)",
   "language": "python",
   "name": "python3-v3"
  },
  "language_info": {
   "codemirror_mode": {
    "name": "ipython",
    "version": 3
   },
   "file_extension": ".py",
   "mimetype": "text/x-python",
   "name": "python",
   "nbconvert_exporter": "python",
   "pygments_lexer": "ipython3",
   "version": "3.7.0"
  }
 },
 "nbformat": 4,
 "nbformat_minor": 2
}
