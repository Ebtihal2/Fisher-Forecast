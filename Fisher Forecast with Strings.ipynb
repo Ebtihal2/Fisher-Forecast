{
 "cells": [
  {
   "cell_type": "code",
   "execution_count": 38,
   "metadata": {},
   "outputs": [
    {
     "name": "stdout",
     "output_type": "stream",
     "text": [
      "[[ 4.21519861e+02 -4.57929163e+05  1.51788612e+05 -3.43852306e+12\n",
      "  -7.78091557e+03  1.34475175e+04 -2.44005393e+09]\n",
      " [-4.57929163e+05  8.44160935e+08 -1.56145512e+08  6.99586127e+15\n",
      "   1.84213015e+07 -2.73786619e+07  6.01303041e+12]\n",
      " [ 1.51788612e+05 -1.56145512e+08  5.68519464e+07 -1.47976379e+15\n",
      "  -2.83825182e+06  5.88571221e+06 -8.48097740e+11]\n",
      " [-3.43852306e+12  6.99586127e+15 -1.47976379e+15  2.01726461e+23\n",
      "   3.58144791e+14 -7.96374595e+14  1.08016008e+20]\n",
      " [-7.78091557e+03  1.84213015e+07 -2.83825182e+06  3.58144791e+14\n",
      "   7.99528552e+05 -1.41460902e+06  2.31516711e+11]\n",
      " [ 1.34475175e+04 -2.73786619e+07  5.88571221e+06 -7.96374595e+14\n",
      "  -1.41460902e+06  3.15757316e+06 -4.17576566e+11]\n",
      " [-2.44005393e+09  6.01303041e+12 -8.48097740e+11  1.08016008e+20\n",
      "   2.31516711e+11 -4.17576566e+11  9.73736831e+16]]\n"
     ]
    }
   ],
   "source": [
    "#The libraries needed to run the code and camb. \n",
    "import math\n",
    "import sys, platform, os\n",
    "import matplotlib\n",
    "from matplotlib import pyplot as plt\n",
    "import numpy as np\n",
    "import camb\n",
    "\n",
    "#Noise curves for 2019-2020 servay from Srini\n",
    "d = np.load('spt3g_winter_2020_ilc_cmb_90-150-220_TT-EE.npy', allow_pickle=True)\n",
    "dd = d.item()\n",
    "\n",
    "# Dictionaries for Cosmological Parameters. \n",
    "# Each Dictionary is named after the variable we are varrying by 1 percent. \n",
    "\n",
    "cos_dict = {'H0': 67.5, 'ombh2':0.022, 'omch2':0.122,'mnu': 0.06,'omk': 0 , 'tau': 0.06}\n",
    "H0_dict ={'H0': 67.5*1.01, 'ombh2':0.022, 'omch2':0.122, 'mnu': 0.06,'omk': 0, 'tau': 0.06}\n",
    "ombh2_dict = {'H0': 67.5, 'ombh2':0.022*1.01, 'omch2':0.122,'mnu': 0.06,'omk': 0, 'tau': 0.06}\n",
    "omch2_dict={'H0': 67.5, 'ombh2':0.022, 'omch2':0.122*1.01, 'mnu': 0.06,'omk': 0, 'tau': 0.06}\n",
    "tau_dict = {'H0': 67.5, 'ombh2':0.022, 'omch2':0.122, 'mnu': 0.06,'omk': 0, 'tau': 0.06*1.01}\n",
    "\n",
    "  \n",
    "    \n",
    "def get_cl(dict, Gmu, b, c):\n",
    "    \"\"\" The function get_cl finds the covariant matrix. \n",
    "    \n",
    "        Parameters: \n",
    "        dict(dictinary): is the dictionary of cosmological parameters. \n",
    "        b(int): is the factor As is varied by. \n",
    "        c(int): is the factor ns is varied by. \n",
    "        \n",
    "        Returns: \n",
    "        np.matrix: the matrix represents the covarient matrix. \n",
    "        \"\"\" \n",
    "        pars = camb.CAMBparams()\n",
    "        cl_matrix = []\n",
    "        pars.set_cosmology(**dict)\n",
    "        pars.InitPower.set_params(As=b*2.10058296e-9, ns=c*0.96605, r =0)\n",
    "        pars.set_for_lmax(10000, lens_potential_accuracy=0);\n",
    "        results = camb.get_results(pars)\n",
    "        powers =results.get_cmb_power_spectra(pars, CMB_unit='muK')\n",
    "        totCL=powers['total']\n",
    "        unlensedCL=powers['unlensed_scalar']\n",
    "        ls = np.arange(totCL.shape[0])\n",
    "        unlensedCL=powers['unlensed_scalar']\n",
    "        cl_t = totCL[:,0]\n",
    "        cl_e =totCL[:,1]\n",
    "        cl_te = totCL[:,3]\n",
    "        noiseTT = dd['cl_residual']['TT']\n",
    "        noiseEE = dd['cl_residual']['EE']\n",
    "        SigmaTot_tt2 = 0\n",
    "        SigmaStr_tt2 = 0\n",
    "        for i in range(2,len(yt)):\n",
    "            SigmaTot_tt2 += ((2*i+1)/(4*np.pi))* ((cl_t[i] *(2*np.pi))/(i*(i+1)))\n",
    "            SigmaStr_tt2 += ((2*i+1)/(4*np.pi))* ( (yt[i]+ zt[i]+tt[i])*((2*np.pi))/(i*(i+1)))\n",
    "        A = Gmu**2 * SigmaTot_tt2 *(1.27*10**(-6))**(-2) *(SigmaStr_tt2)**(-1)\n",
    "        for i in ls[(ls < len(noiseTT)) & (ls < len(cl_t))& (ls <len(yt)) & (ls > 100)]:\n",
    "            Cl_11 = A*(yt[i]+ zt[i]+tt[i])*((2*np.pi)/(i*(i+1)))+noiseTT[i] + ((cl_t[i]*(2*np.pi))/(i*(i+1)))\n",
    "            Cl_12 = A*(yte[i]+ zte[i]+te[i])*((2*np.pi)/(i*(i+1)))+((cl_te[i]*(2*np.pi))/(i*(i+1)))\n",
    "            Cl_22 = A*(ye[i]+ ze[i]+te[i])*((2*np.pi)/(i*(i+1)))+noiseEE[i] + ((cl_e[i]*(2*np.pi))/(i*(i+1)))\n",
    "            c_l   = np.matrix([[Cl_11,  Cl_12],[ Cl_12, Cl_22]])\n",
    "            cl_matrix.insert(len(cl_matrix)-1,c_l)\n",
    "        return cl_matrix\n",
    "\n",
    "H0_cls = get_cl(H0_dict, 1*10**(-7),1, 1)\n",
    "cos_cls = get_cl(cos_dict, 1*10**(-7),1,1)\n",
    "Gmu_cls = get_cl(cos_dict, 1*10**(-7)*1.01,1,1)\n",
    "ombh2_cls = get_cl(ombh2_dict, 1*10**(-7),1, 1)\n",
    "omch2_cls = get_cl(omch2_dict,1*10**(-7), 1,1)\n",
    "As_cls = get_cl(cos_dict,1*10**(-7),1.01,1)\n",
    "ns_cls = get_cl(cos_dict, 1*10**(-7),1,1.01)\n",
    "tau_cls = get_cl(tau_dict,1*10**(-7),1,1)\n",
    "cl_dict = {\"H0\": H0_cls, \"ombh2\": ombh2_cls ,\"omch2\": omch2_cls, \"As\":As_cls, \"ns\":ns_cls, \"tau\":tau_cls, \"Gmu\":Gmu_cls, \"cos\": cos_cls}  \n",
    "cl_dict_values = {\"H0\": 67.5, \"ombh2\": 0.022  ,\"omch2\": 0.122, \"As\":2.10058296e-9, \"ns\":0.96605, \"tau\":0.06, \"Gmu\":1*10**(-7)} \n",
    "var = list(cl_dict.keys())\n",
    "f_matrix1 = np.zeros((7,7))\n",
    "for row in range(7):\n",
    "    for column in range(7):\n",
    "        for i in range(1,2898):\n",
    "                Clinv = np.linalg.inv((cl_dict[var[7]])[i])\n",
    "                dCldtheta_row = ((((cl_dict[var[row]])[i]) - ((cl_dict[var[7]])[i])) / ((0.01)*cl_dict_values[var[row]]))\n",
    "                dCldtheta_column = ((((cl_dict[var[column]])[i]) - ((cl_dict[var[7]])[i])) / ((0.01)*cl_dict_values[var[column]]))\n",
    "                fsky =1500 / 41253\n",
    "                f_matrix1[row,column] += ((2*i+1)/2) * fsky * np.trace(Clinv * dCldtheta_row * Clinv * dCldtheta_column)\n",
    "    \n",
    "print(f_matrix1)"
   ]
  },
  {
   "cell_type": "code",
   "execution_count": 18,
   "metadata": {},
   "outputs": [],
   "source": [
    "def prior(row,column, value, matrix):\n",
    "    \"\"\"The function adds a value to the defined value of the matrix . \n",
    "    \n",
    "        Parameters: \n",
    "        row(int): specfies the row of the matrix.\n",
    "        column(int): specifies the column of the matrix.\n",
    "        value(int): the value added to the element specified by the row and column.\n",
    "        matrix(np matrix): is the cl_matrix from get_cls\n",
    "        \n",
    "        Returns: \n",
    "        np.matrix: returns the covarient matrix with the updated value of the specified row and column.\"\"\"\n",
    "    matrix[row,column] +=   (1/value**2)\n",
    "    return matrix\n",
    "        \n",
    "\n",
    "def error(matrix):    \n",
    "    \"\"\"The function adds a value to the defined value of the matrix . \n",
    "    \n",
    "        Parameters: \n",
    "        matrix(np matrix): is updated matrix after adding a prior.\n",
    "        \n",
    "        Returns: \n",
    "        np.matrix: the uncertainities constraints on all the cosmological parameters.\"\"\"\n",
    "\n",
    "    a = np.linalg.inv(matrix)\n",
    "    a.diagonal()\n",
    "    for i in range(0, len(a.diagonal())): \n",
    "        errors = {}\n",
    "        errors[i] = (a.diagonal()[i])**(1/2)\n",
    "        print(errors)"
   ]
  },
  {
   "cell_type": "code",
   "execution_count": 39,
   "metadata": {},
   "outputs": [
    {
     "data": {
      "text/plain": [
       "array([[ 4.21519861e+02, -4.57929163e+05,  1.51788612e+05,\n",
       "        -3.43852306e+12, -7.78091557e+03,  1.34475175e+04,\n",
       "        -2.44005393e+09],\n",
       "       [-4.57929163e+05,  8.44160935e+08, -1.56145512e+08,\n",
       "         6.99586127e+15,  1.84213015e+07, -2.73786619e+07,\n",
       "         6.01303041e+12],\n",
       "       [ 1.51788612e+05, -1.56145512e+08,  5.68519464e+07,\n",
       "        -1.47976379e+15, -2.83825182e+06,  5.88571221e+06,\n",
       "        -8.48097740e+11],\n",
       "       [-3.43852306e+12,  6.99586127e+15, -1.47976379e+15,\n",
       "         2.01726461e+23,  3.58144791e+14, -7.96374595e+14,\n",
       "         1.08016008e+20],\n",
       "       [-7.78091557e+03,  1.84213015e+07, -2.83825182e+06,\n",
       "         3.58144791e+14,  7.99528552e+05, -1.41460902e+06,\n",
       "         2.31516711e+11],\n",
       "       [ 1.34475175e+04, -2.73786619e+07,  5.88571221e+06,\n",
       "        -7.96374595e+14, -1.41460902e+06,  3.17798132e+06,\n",
       "        -4.17576566e+11],\n",
       "       [-2.44005393e+09,  6.01303041e+12, -8.48097740e+11,\n",
       "         1.08016008e+20,  2.31516711e+11, -4.17576566e+11,\n",
       "         9.73736831e+16]])"
      ]
     },
     "execution_count": 39,
     "metadata": {},
     "output_type": "execute_result"
    }
   ],
   "source": [
    "prior(5,5,0.0070, f_matrix1)\n"
   ]
  },
  {
   "cell_type": "code",
   "execution_count": 40,
   "metadata": {},
   "outputs": [
    {
     "name": "stdout",
     "output_type": "stream",
     "text": [
      "{0: 0.4669537777013664}\n",
      "{1: 8.390190445938496e-05}\n",
      "{2: 0.0012450693184887648}\n",
      "{3: 2.3657905173532102e-11}\n",
      "{4: 0.0041851759917718905}\n",
      "{5: 0.006341761143504165}\n",
      "{6: 6.5144328488410094e-09}\n"
     ]
    }
   ],
   "source": [
    "#cl_dict = {\"H0\": H0_cls, \"ombh2\": ombh2_cls ,\"omch2\": omch2_cls, \"As\":As_cls, \"ns\":ns_cls, \"tau\":tau_cls, \"Gmu\":Gmu_cls, \"cos\": cos_cls}\n",
    "error(f_matrix1)"
   ]
  },
  {
   "cell_type": "code",
   "execution_count": 27,
   "metadata": {},
   "outputs": [
    {
     "data": {
      "text/plain": [
       "0.006046009440399019"
      ]
     },
     "execution_count": 27,
     "metadata": {},
     "output_type": "execute_result"
    }
   ],
   "source": [
    "#calculating error in log(As)\n",
    "2.9243163189281643e-11/ (np.log(10) * 2.10058296e-9)"
   ]
  },
  {
   "cell_type": "code",
   "execution_count": 38,
   "metadata": {},
   "outputs": [
    {
     "data": {
      "text/plain": [
       "[<matplotlib.lines.Line2D at 0x7fc124d32d68>]"
      ]
     },
     "execution_count": 38,
     "metadata": {},
     "output_type": "execute_result"
    },
    {
     "data": {
      "image/png": "[encoded data removed]",
      "text/plain": [
       "<Figure size 432x288 with 1 Axes>"
      ]
     },
     "metadata": {
      "needs_background": "light"
     },
     "output_type": "display_data"
    }
   ],
   "source": [
    "\n",
    "pars = camb.CAMBparams()\n",
    "pars.set_cosmology(**cos_dict)\n",
    "pars.InitPower.set_params(As=2.10058296e-9, ns=0.96605, r =0)\n",
    "pars.set_for_lmax(10000, lens_potential_accuracy=0);\n",
    "results = camb.get_results(pars)\n",
    "results = camb.get_results(pars)\n",
    "powers =results.get_cmb_power_spectra(pars, CMB_unit='muK')\n",
    "totCL=powers['total']\n",
    "cl_t = totCL[:,0]\n",
    "ls = np.arange(len(cl_t))\n",
    "plt.plot(ls, cl_t)\n",
    "ls1 = np.arange(len(yt))\n",
    "plt.plot(ls1 , yt+zt+tt)"
   ]
  },
  {
   "cell_type": "code",
   "execution_count": null,
   "metadata": {},
   "outputs": [],
   "source": []
  },
  {
   "cell_type": "code",
   "execution_count": 37,
   "metadata": {},
   "outputs": [
    {
     "data": {
      "text/plain": [
       "[<matplotlib.lines.Line2D at 0x7fc127a87358>]"
      ]
     },
     "execution_count": 37,
     "metadata": {},
     "output_type": "execute_result"
    },
    {
     "data": {
      "image/png": "[encoded data removed]",
      "text/plain": [
       "<Figure size 432x288 with 1 Axes>"
      ]
     },
     "metadata": {
      "needs_background": "light"
     },
     "output_type": "display_data"
    }
   ],
   "source": [
    "ls1 = np.arange(len(yt))\n",
    "plt.plot(ls1 , yt+zt+tt)"
   ]
  },
  {
   "cell_type": "code",
   "execution_count": null,
   "metadata": {},
   "outputs": [],
   "source": []
  }
 ],
 "metadata": {
  "kernelspec": {
   "display_name": "Python 3 (v3)",
   "language": "python",
   "name": "python3-v3"
  },
  "language_info": {
   "codemirror_mode": {
    "name": "ipython",
    "version": 3
   },
   "file_extension": ".py",
   "mimetype": "text/x-python",
   "name": "python",
   "nbconvert_exporter": "python",
   "pygments_lexer": "ipython3",
   "version": "3.7.0"
  }
 },
 "nbformat": 4,
 "nbformat_minor": 2
}
